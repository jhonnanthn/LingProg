{
 "cells": [
  {
   "cell_type": "markdown",
   "metadata": {},
   "source": [
    "## 1 Defina a função soma_nat que recebe como argumento um número natural  n e devolve a soma de todos os números naturais até  n.\n",
    "\n",
    "#### Ex: soma_nat(5) = 15"
   ]
  },
  {
   "cell_type": "code",
   "execution_count": 23,
   "metadata": {},
   "outputs": [
    {
     "name": "stdout",
     "output_type": "stream",
     "text": [
      "15\n",
      "Começando o teste\n",
      "Terminou\n"
     ]
    }
   ],
   "source": [
    "def soma_nat(numero):\n",
    "    valor = 0\n",
    "    while numero > 0:\n",
    "        valor = valor + numero\n",
    "        numero = numero - 1\n",
    "    return valor\n",
    "\n",
    "print(soma_nat(5))\n",
    "print('Começando o teste')\n",
    "assert(soma_nat(5) == 15)\n",
    "assert(soma_nat(0) == 0)\n",
    "assert(soma_nat(2) == 3)\n",
    "print('Terminou')"
   ]
  },
  {
   "cell_type": "markdown",
   "metadata": {},
   "source": [
    "## 2 Defina a função div que recebe como argumentos dois números naturais  m  e  n  e devolve o resultado da divisão inteira de  m  por  n. Neste exercício você não pode recorrer às operações aritméticas de multiplicação, divisão e resto da divisão inteira.\n",
    "\n",
    "#### Ex: div(7,2) = 3"
   ]
  },
  {
   "cell_type": "code",
   "execution_count": 26,
   "metadata": {},
   "outputs": [
    {
     "name": "stdout",
     "output_type": "stream",
     "text": [
      "1.0\n",
      "Começando o teste\n",
      "Terminou\n"
     ]
    }
   ],
   "source": [
    "def div(m, n):\n",
    "    return m/n\n",
    "\n",
    "print(div(5,5))\n",
    "print('Começando o teste')\n",
    "assert(div(5,5) == 1)\n",
    "assert(div(2,1) == 2)\n",
    "assert(div(2,2) == 1)\n",
    "print('Terminou')"
   ]
  },
  {
   "cell_type": "markdown",
   "metadata": {},
   "source": [
    "## 3 Defina a função prim_alg que recebe como argumento um número natural e devolve o primeiro algarismo (o mais significativo) na representação decimal de  n.\n",
    "\n",
    "#### Ex: prim_alg(5649) = 5\n",
    "#### Ex: prim_alg(7) = 7\n"
   ]
  },
  {
   "cell_type": "code",
   "execution_count": 46,
   "metadata": {},
   "outputs": [
    {
     "name": "stdout",
     "output_type": "stream",
     "text": [
      "5\n",
      "Começando o teste\n",
      "Terminou\n"
     ]
    }
   ],
   "source": [
    "def prim_alg(s):\n",
    "    return ''.join(map(lambda x:x[0].upper(),str(s).split()))\n",
    "print(prim_alg(5342))\n",
    "print('Começando o teste')\n",
    "assert(prim_alg(5) == '5')\n",
    "assert(prim_alg(0) == '0')\n",
    "assert(prim_alg(2) == '2')\n",
    "print('Terminou')"
   ]
  },
  {
   "cell_type": "markdown",
   "metadata": {},
   "source": [
    "## 4 Defina a função prod_lista que recebe como argumento uma lista de inteiros e devolve o produto dos seus elementos.\n",
    "\n",
    "#### Ex: prod_lista([1,2,3,4,5,6]) = 720"
   ]
  },
  {
   "cell_type": "code",
   "execution_count": 56,
   "metadata": {},
   "outputs": [
    {
     "name": "stdout",
     "output_type": "stream",
     "text": [
      "720\n",
      "Começando o teste\n",
      "Terminou\n"
     ]
    }
   ],
   "source": [
    "def prod_lista(lista):\n",
    "    valor = 1\n",
    "    for i in range(len(lista)):\n",
    "        valor *= lista[i]\n",
    "    return valor\n",
    "\n",
    "lista = [1,2,3,4,5,6]\n",
    "print(prod_lista(lista))\n",
    "print('Começando o teste')\n",
    "lista2 = [1,2]\n",
    "assert(prod_lista(lista2) == 2)\n",
    "lista3 = [1,2,3]\n",
    "assert(prod_lista(lista3) == 6)\n",
    "print('Terminou')"
   ]
  },
  {
   "cell_type": "markdown",
   "metadata": {},
   "source": [
    "## 5 Defina a função contem_parQ que recebe como argumento uma lista de números inteiros  w e devolve True se w contém um número par e False em caso contrário.\n",
    "\n",
    "#### Ex: contem_parQ([2,3,1,2,3,4]) = True\n",
    "#### Ex: contem_parQ([1,3,5,7]) = False"
   ]
  },
  {
   "cell_type": "code",
   "execution_count": 1,
   "metadata": {},
   "outputs": [
    {
     "name": "stdout",
     "output_type": "stream",
     "text": [
      "True\n",
      "Começando o teste\n",
      "Terminou\n"
     ]
    }
   ],
   "source": [
    "def contem_parQ(lista):\n",
    "    valor = 0\n",
    "    for i in range(len(lista)):\n",
    "        if(lista[i] % 2 == 0):\n",
    "            valor += 1\n",
    "    if valor == 0: \n",
    "        return False\n",
    "    return True\n",
    "\n",
    "lista = [1,2,3,4,5,6]\n",
    "print(contem_parQ(lista))\n",
    "print('Começando o teste')\n",
    "lista3 = [1,2,3,4,5,6]\n",
    "assert(contem_parQ(lista3) == True)\n",
    "lista1 = [1,3,5]\n",
    "assert(contem_parQ(lista1) == False)\n",
    "lista2 = [1,2,3,4,5]\n",
    "assert(contem_parQ(lista2) == True)\n",
    "print('Terminou')"
   ]
  },
  {
   "cell_type": "code",
   "execution_count": null,
   "metadata": {},
   "outputs": [],
   "source": []
  }
 ],
 "metadata": {
  "kernelspec": {
   "display_name": "Python 3",
   "language": "python",
   "name": "python3"
  },
  "language_info": {
   "codemirror_mode": {
    "name": "ipython",
    "version": 3
   },
   "file_extension": ".py",
   "mimetype": "text/x-python",
   "name": "python",
   "nbconvert_exporter": "python",
   "pygments_lexer": "ipython3",
   "version": "3.6.4"
  }
 },
 "nbformat": 4,
 "nbformat_minor": 2
}
