{
 "cells": [
  {
   "cell_type": "markdown",
   "metadata": {},
   "source": [
    "# 1 Faça um Programa que peça o raio de um círculo, calcule e mostre sua área."
   ]
  },
  {
   "cell_type": "code",
   "execution_count": 2,
   "metadata": {},
   "outputs": [
    {
     "name": "stdout",
     "output_type": "stream",
     "text": [
      "Digite o raio do círculo: 2\n",
      "12.56\n"
     ]
    }
   ],
   "source": [
    "raio = float(input(\"Digite o raio do círculo: \"));\n",
    "area = 3.14*(raio**2)\n",
    "print(area)"
   ]
  },
  {
   "cell_type": "markdown",
   "metadata": {},
   "source": [
    "# 2 Faça um Programa que calcule a área de um quadrado, em seguida mostre o dobro desta área para o usuário."
   ]
  },
  {
   "cell_type": "code",
   "execution_count": 8,
   "metadata": {},
   "outputs": [
    {
     "name": "stdout",
     "output_type": "stream",
     "text": [
      "Digite o lado do quadrado: 1\n",
      "2.0\n"
     ]
    }
   ],
   "source": [
    "lado = float(input(\"Digite o lado do quadrado: \"));\n",
    "area = (lado**2)\n",
    "print(area*2)"
   ]
  },
  {
   "cell_type": "markdown",
   "metadata": {},
   "source": [
    "# 3 Faça um Programa que pergunte quanto você ganha por hora e o número de horas  trabalhadas no mês. Calcule e mostre o total do seu salário no referido mês."
   ]
  },
  {
   "cell_type": "code",
   "execution_count": 10,
   "metadata": {},
   "outputs": [
    {
     "name": "stdout",
     "output_type": "stream",
     "text": [
      "Digite o salário(hora): 2\n",
      "Digite a qnt. de horas trabalhadas: 2\n",
      "120.0\n"
     ]
    }
   ],
   "source": [
    "salarioHora = float(input(\"Digite o salário(hora): \"));\n",
    "qntHora = float(input(\"Digite a qnt. de horas trabalhadas: \"));\n",
    "salario = (salarioHora*qntHora*30)\n",
    "print(salario)"
   ]
  },
  {
   "cell_type": "markdown",
   "metadata": {},
   "source": [
    "# 4 Faça um Programa que peça a temperatura em graus Farenheit, transforme e mostre a temperatura em graus Celsius. C = (5 * (F-32) / 9)."
   ]
  },
  {
   "cell_type": "code",
   "execution_count": 16,
   "metadata": {},
   "outputs": [
    {
     "name": "stdout",
     "output_type": "stream",
     "text": [
      "Temperatura atual (farenheit): 50\n",
      "10.0\n"
     ]
    }
   ],
   "source": [
    "farenheit = float(input(\"Temperatura atual (farenheit): \"));\n",
    "celsius = (5*(farenheit-32)/9)\n",
    "print(celsius)"
   ]
  },
  {
   "cell_type": "markdown",
   "metadata": {},
   "source": [
    "# 5 Faça um Programa que peça a temperatura em graus Celsius, transforme e mostre em graus Farenheit."
   ]
  },
  {
   "cell_type": "code",
   "execution_count": 17,
   "metadata": {},
   "outputs": [
    {
     "name": "stdout",
     "output_type": "stream",
     "text": [
      "Temperatura atual (celsius): 10\n",
      "50.0\n"
     ]
    }
   ],
   "source": [
    "celsius = float(input(\"Temperatura atual (celsius): \"));\n",
    "farenheit = ((celsius*2)+30)\n",
    "print(farenheit)"
   ]
  },
  {
   "cell_type": "markdown",
   "metadata": {},
   "source": [
    "# 6 Faça um Programa que peça 2 números inteiros e um número real. Calcule e mostre:\n",
    "- o produto do dobro do primeiro com metade do segundo .\n",
    "- a soma do triplo do primeiro com o terceiro.\n",
    "- o terceiro elevado ao cubo."
   ]
  },
  {
   "cell_type": "code",
   "execution_count": 18,
   "metadata": {},
   "outputs": [
    {
     "name": "stdout",
     "output_type": "stream",
     "text": [
      "Inteiro 1: 1\n",
      "Inteiro 2: 2\n",
      "Real : 3\n",
      "Produto:  3.0\n",
      "Soma:  12.0\n",
      "Elevado:  27.0\n"
     ]
    }
   ],
   "source": [
    "inteiro1 = int(input(\"Inteiro 1: \"));\n",
    "inteiro2 = int(input(\"Inteiro 2: \"));\n",
    "real = float(input(\"Real : \"));\n",
    "produto = (inteiro1*2) + (inteiro2/2)\n",
    "soma = (inteiro1*3) + (real*3)\n",
    "elevado = (real**3)\n",
    "print(\"Produto: \", produto)\n",
    "print(\"Soma: \", soma)\n",
    "print(\"Elevado: \", elevado)"
   ]
  },
  {
   "cell_type": "markdown",
   "metadata": {},
   "source": [
    "# 7 João Papo-de-Pescador, homem de bem, comprou um microcomputador para controlar o rendimento diário de seu trabalho. Toda vez que ele traz um peso de peixes maior que o estabelecido pelo regulamento de pesca do estado de São Paulo (50 quilos) deve pagar uma multa de R 4,00 por quilo excedente. João precisa que você faça um programa que leia a variável peso (peso de peixes) e verifique se há excesso. Se houver, gravar na variável excesso e na variável multa o valor da multa que João deverá pagar. Caso contrário mostrar tais variáveis com o conteúdo ZERO."
   ]
  },
  {
   "cell_type": "code",
   "execution_count": 30,
   "metadata": {},
   "outputs": [
    {
     "name": "stdout",
     "output_type": "stream",
     "text": [
      "Qnt. de quilos de peixe : 51\n",
      "EXCESSO. Você deverá pagar de multa:  4.0\n"
     ]
    }
   ],
   "source": [
    "quilos = float(input(\"Qnt. de quilos de peixe : \"));\n",
    "if quilos > 50:\n",
    "    multa = (float(quilos)-50)*4\n",
    "    print(\"EXCESSO. Você deverá pagar de multa: \", multa)\n",
    "else:\n",
    "    print(\"SEM EXCESSO! Multa é: 0\")"
   ]
  },
  {
   "cell_type": "markdown",
   "metadata": {},
   "source": [
    "# 8 Faça um Programa que pergunte quanto você ganha por hora e o número de horas trabalhadas no mês. Calcule e mostre o total do seu salário no referido mês, sabendo-se que são descontados 11% para o Imposto de Renda, 8% para o INSS e 5% para o sindicato, faça um programa que nos dê:\n",
    "- salário bruto.\n",
    "- quanto pagou ao INSS.\n",
    "- quanto pagou ao sindicato.\n",
    "- o salário líquido.\n",
    "- calcule os descontos e o salário líquido, conforme a tabela abaixo:\n",
    "+ Salário Bruto : R$\n",
    "- IR (11%) : R$\n",
    "- INSS (8%) : R$\n",
    "- Sindicato ( 5%) : R$\n",
    "= Salário Liquido : R$\n",
    "Obs.: Salário Bruto - Descontos = Salário Líquido."
   ]
  },
  {
   "cell_type": "code",
   "execution_count": 33,
   "metadata": {},
   "outputs": [
    {
     "name": "stdout",
     "output_type": "stream",
     "text": [
      "Quanto ganha por hora: 50\n",
      "Horas trabahlhadas: 200\n",
      "Salário bruto:  10000.0\n",
      "Valor INSS:  800.0\n",
      "Valor Sindicato:  500.0\n",
      "Salário Líquido.:  7600.0\n"
     ]
    }
   ],
   "source": [
    "salarioHora = float(input(\"Quanto ganha por hora: \"));\n",
    "horasTrabalhadas = int(input(\"Horas trabahlhadas: \"));\n",
    "\n",
    "salario = salarioHora*horasTrabalhadas\n",
    "impostoRenda = salario*0.11\n",
    "inss = salario*0.08\n",
    "sindicato = salario*0.05\n",
    "print(\"Salário bruto: \", salario)\n",
    "print(\"Valor INSS: \", inss)\n",
    "print(\"Valor Sindicato: \", sindicato)\n",
    "print(\"Salário Líquido.: \", salario-impostoRenda-inss-sindicato)"
   ]
  },
  {
   "cell_type": "markdown",
   "metadata": {},
   "source": [
    "# 9 Faça um programa que leia 2 strings e informe o conteúdo delas seguido do seu comprimento. Informe também se as duas strings possuem o mesmo comprimento e são iguais ou diferentes no conteúdo.\n",
    "Exemplo:\n",
    "String 1: Brasil Hexa 2018\n",
    "String 2: Brasil! Hexa 2018!\n",
    "Tamanho de \"Brasil Hexa 2018\": 16 caracteres\n",
    "Tamanho de \"Brasil! Hexa 2018!\": 18 caracteres\n",
    "As duas strings são de tamanhos diferentes.\n",
    "As duas strings possuem conteúdo diferente."
   ]
  },
  {
   "cell_type": "code",
   "execution_count": 37,
   "metadata": {},
   "outputs": [
    {
     "name": "stdout",
     "output_type": "stream",
     "text": [
      "Primeira string: pri\n",
      "Segunda string: pri\n",
      "pri , Tamanho:  3\n",
      "pri , Tamanho:  3\n",
      "As duas palavras possuem o mesmo comprimento\n",
      "Mesma palavra\n"
     ]
    }
   ],
   "source": [
    "primeira = input(\"Primeira string: \");\n",
    "segunda = input(\"Segunda string: \");\n",
    "\n",
    "print(primeira,\", Tamanho: \", len(primeira))\n",
    "print(segunda,\", Tamanho: \", len(segunda))\n",
    "if len(primeira) == len(segunda):\n",
    "    print(\"As duas palavras possuem o mesmo comprimento\")\n",
    "else:\n",
    "    print(\"As duas palavras não possuem o mesmo comprimento\")\n",
    "if primeira == segunda:\n",
    "    print(\"Mesma palavra\")\n",
    "else:\n",
    "    print(\"Palavras diferentes\")"
   ]
  },
  {
   "cell_type": "markdown",
   "metadata": {},
   "source": [
    "# 10 Faça um programa que permita ao usuário digitar o seu nome e em seguida mostre o nome do usuário de trás para frente utilizando somente letras maiúsculas.\n",
    "Dica: lembre−se que ao informar o nome o usuário pode digitar letras maiúsculas ou\n",
    "minúsculas. Observação: não use loops."
   ]
  },
  {
   "cell_type": "code",
   "execution_count": 3,
   "metadata": {},
   "outputs": [
    {
     "name": "stdout",
     "output_type": "stream",
     "text": [
      "Digite seu nome: jho\n",
      "ohj\n"
     ]
    }
   ],
   "source": [
    "nome = input(\"Digite seu nome: \");\n",
    "\n",
    "print(nome[::-1])"
   ]
  },
  {
   "cell_type": "markdown",
   "metadata": {},
   "source": [
    "# 11 Faça um programa que solicite a data de nascimento (dd/mm/aaaa) do usuário e imprima a data com o nome do mês por extenso.\n",
    "Data de Nascimento: 29/10/1973\n",
    "Você nasceu em 29 de Outubro de 1973.\n",
    "Obs.: Não use desvio condicional nem loops."
   ]
  },
  {
   "cell_type": "code",
   "execution_count": 11,
   "metadata": {},
   "outputs": [
    {
     "name": "stdout",
     "output_type": "stream",
     "text": [
      "informe a data (dd/mm/aaaa): 12/12/1212\n",
      "12 de dezembro de 1212\n"
     ]
    }
   ],
   "source": [
    "meses = [\"janeiro\",\n",
    "         \"fevereiro\",\n",
    "         \"março\",\n",
    "         \"abril\",\n",
    "         \"maio\",\n",
    "         \"junho\",\n",
    "         \"julho\",\n",
    "         \"agosto\",\n",
    "         \"setembro\",\n",
    "         \"outubro\",\n",
    "         \"novembro\",\n",
    "         \"dezembro\"]\n",
    "\n",
    "data = input(\"informe a data (dd/mm/aaaa): \")\n",
    "\n",
    "\n",
    "print (data.split(\"/\")[0],\n",
    "       \"de\",\n",
    "       meses[(int(data.split(\"/\")[1])-1)],\n",
    "       \"de\",\n",
    "       data.split(\"/\")[2])"
   ]
  },
  {
   "cell_type": "code",
   "execution_count": null,
   "metadata": {},
   "outputs": [],
   "source": []
  },
  {
   "cell_type": "markdown",
   "metadata": {},
   "source": [
    "# 12 Leet é uma forma de se escrever o alfabeto latino usando outros símbolos em lugar das letras, como números por exemplo. A própria palavra leet admite muitas variações, como l33t ou 1337. O uso do leet reflete uma subcultura relacionada ao mundo dos jogos de computador e internet, sendo muito usada para confundir os iniciantes e afirmar-se como parte de um grupo. Pesquise sobre as principais formas de traduzir as letras. Depois, faça um programa que peça uma texto e transforme-o para a grafia leet speak.\n",
    "Desafio: não use loops nem desvios condicionais."
   ]
  },
  {
   "cell_type": "code",
   "execution_count": 19,
   "metadata": {},
   "outputs": [
    {
     "name": "stdout",
     "output_type": "stream",
     "text": [
      "Digite a frase/palavra: teste\n",
      "t35t3\n"
     ]
    }
   ],
   "source": [
    "def leet(text):\n",
    "    getchar = lambda c: chars[c] if c in chars else c\n",
    "    chars = {\"a\":\"4\",\"e\":\"3\",\"l\":\"1\",\"o\":\"0\",\"s\":\"5\"}\n",
    "    return ''.join(getchar(c) for c in text)\n",
    "\n",
    "texto = input(\"Digite a frase/palavra: \")\n",
    "\n",
    "print(leet(texto))"
   ]
  },
  {
   "cell_type": "code",
   "execution_count": null,
   "metadata": {},
   "outputs": [],
   "source": []
  },
  {
   "cell_type": "code",
   "execution_count": null,
   "metadata": {},
   "outputs": [],
   "source": []
  }
 ],
 "metadata": {
  "kernelspec": {
   "display_name": "Python 3",
   "language": "python",
   "name": "python3"
  },
  "language_info": {
   "codemirror_mode": {
    "name": "ipython",
    "version": 3
   },
   "file_extension": ".py",
   "mimetype": "text/x-python",
   "name": "python",
   "nbconvert_exporter": "python",
   "pygments_lexer": "ipython3",
   "version": "3.6.4"
  }
 },
 "nbformat": 4,
 "nbformat_minor": 2
}
