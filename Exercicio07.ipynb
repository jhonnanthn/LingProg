{
 "cells": [
  {
   "cell_type": "markdown",
   "metadata": {},
   "source": [
    "## 1 Defina a função soma_nat que recebe como argumento um número natural n e devolve a soma de todos os números naturais até n.\n",
    "#### Ex: soma_nat(5) = 15"
   ]
  },
  {
   "cell_type": "code",
   "execution_count": 44,
   "metadata": {},
   "outputs": [],
   "source": [
    "soma_nat = lambda n: 0 if n == 0 else n+soma_nat(n-1)"
   ]
  },
  {
   "cell_type": "code",
   "execution_count": 46,
   "metadata": {},
   "outputs": [
    {
     "name": "stdout",
     "output_type": "stream",
     "text": [
      "15\n",
      "Começando o teste\n",
      "Terminou\n"
     ]
    }
   ],
   "source": [
    "print(soma_nat(5))\n",
    "print('Começando o teste')\n",
    "assert(soma_nat(5) == 15)\n",
    "assert(soma_nat(1) == 1)\n",
    "assert(soma_nat(2) == 3)\n",
    "print('Terminou')"
   ]
  },
  {
   "cell_type": "markdown",
   "metadata": {},
   "source": [
    "## 2 Defina a função div que recebe como argumentos dois números naturais m e n e devolve o resultado da divisão inteira de m por n. Neste exercício você não pode recorrer às operações aritméticas de multiplicação, divisão e resto da divisão inteira.\n",
    "\n",
    "#### Ex: div(7,2) = 3"
   ]
  },
  {
   "cell_type": "code",
   "execution_count": 47,
   "metadata": {},
   "outputs": [
    {
     "name": "stdout",
     "output_type": "stream",
     "text": [
      "1.0\n",
      "Começando o teste\n",
      "Terminou\n"
     ]
    }
   ],
   "source": [
    "div = lambda m,n: m/n\n",
    "\n",
    "print(div(5,5))\n",
    "print('Começando o teste')\n",
    "assert(div(5,5) == 1)\n",
    "assert(div(2,1) == 2)\n",
    "assert(div(2,2) == 1)\n",
    "print('Terminou')"
   ]
  },
  {
   "cell_type": "markdown",
   "metadata": {},
   "source": [
    "## 3 Defina a função prim_alg que recebe como argumento um número natural e devolve o primeiro algarismo (o mais significativo) na representação decimal de n.\n",
    "#### Ex: prim_alg(5649) = 5\n",
    "#### Ex: prim_alg(7) = 7¶"
   ]
  },
  {
   "cell_type": "code",
   "execution_count": 50,
   "metadata": {},
   "outputs": [
    {
     "name": "stdout",
     "output_type": "stream",
     "text": [
      "5\n",
      "Começando o teste\n",
      "Terminou\n"
     ]
    }
   ],
   "source": [
    "prim_alg = lambda s : ''.join(map(lambda x:x[0].upper(),str(s).split()))\n",
    "print(prim_alg(5342))\n",
    "print('Começando o teste')\n",
    "assert(prim_alg(5) == '5')\n",
    "assert(prim_alg(0) == '0')\n",
    "assert(prim_alg(2) == '2')\n",
    "print('Terminou')"
   ]
  },
  {
   "cell_type": "markdown",
   "metadata": {},
   "source": [
    "## 4 Defina a função prod_lista que recebe como argumento uma lista de inteiros e devolve o produto dos seus elementos.\n",
    "\n",
    "#### Ex: prod_lista([1,2,3,4,5,6]) = 720"
   ]
  },
  {
   "cell_type": "code",
   "execution_count": 53,
   "metadata": {},
   "outputs": [
    {
     "name": "stdout",
     "output_type": "stream",
     "text": [
      "120\n",
      "Começando o teste\n",
      "Terminou\n"
     ]
    }
   ],
   "source": [
    "prod_lista = lambda n: 1 if n == 0 else n*prod_lista(n-1)\n",
    "print(prod_lista(5))\n",
    "print('Começando o teste')\n",
    "assert(prod_lista(5) == 120)\n",
    "assert(prod_lista(1) == 1)\n",
    "assert(prod_lista(2) == 2)\n",
    "print('Terminou')"
   ]
  },
  {
   "cell_type": "markdown",
   "metadata": {},
   "source": [
    "## 5 Defina a função contem_parQ que recebe como argumento uma lista de números inteiros w e devolve True se w contém um número par e False em caso contrário.\n",
    "\n",
    "#### Ex: contem_parQ([2,3,1,2,3,4]) = True\n",
    "#### Ex: contem_parQ([1,3,5,7]) = False"
   ]
  },
  {
   "cell_type": "code",
   "execution_count": 105,
   "metadata": {},
   "outputs": [
    {
     "name": "stdout",
     "output_type": "stream",
     "text": [
      "[False, True, False, True]\n"
     ]
    }
   ],
   "source": [
    "lista = [1,2,3,4]\n",
    "contem_parQ = list(map(lambda x : True if x % 2 == 0 else False, lista))\n",
    "print(contem_parQ)"
   ]
  },
  {
   "cell_type": "markdown",
   "metadata": {},
   "source": [
    "## 10 Defina a função inverteLista que recebe como argumento uma lista w e devolve amesma lista mas invertida.\n",
    "#### Ex: inverteLista([1,2,3,4,5]) = [5, 4, 3, 2, 1]\n",
    "#### Ex: inverteLista([])"
   ]
  },
  {
   "cell_type": "code",
   "execution_count": 116,
   "metadata": {},
   "outputs": [
    {
     "name": "stdout",
     "output_type": "stream",
     "text": [
      "<function <lambda> at 0x107019598>\n"
     ]
    }
   ],
   "source": [
    "lista = [1,2,3,4]\n",
    "soma_nat = lambda lista: lista[::1]\n",
    "print(contem_parQ)"
   ]
  },
  {
   "cell_type": "code",
   "execution_count": null,
   "metadata": {},
   "outputs": [],
   "source": []
  }
 ],
 "metadata": {
  "kernelspec": {
   "display_name": "Python 3",
   "language": "python",
   "name": "python3"
  },
  "language_info": {
   "codemirror_mode": {
    "name": "ipython",
    "version": 3
   },
   "file_extension": ".py",
   "mimetype": "text/x-python",
   "name": "python",
   "nbconvert_exporter": "python",
   "pygments_lexer": "ipython3",
   "version": "3.6.4"
  }
 },
 "nbformat": 4,
 "nbformat_minor": 2
}
