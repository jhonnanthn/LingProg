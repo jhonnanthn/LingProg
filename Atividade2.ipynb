{
 "cells": [
  {
   "cell_type": "markdown",
   "metadata": {},
   "source": [
    "# 1 Crie um programa que recebe uma lista de números e\n",
    "- retorne o maior elemento\n",
    "- retorne a soma dos elementos\n",
    "- retorne o número de ocorrências do primeiro elemento da lista\n",
    "- retorne a média dos elementos\n",
    "- retorne o valor mais próximo da média dos elementos\n",
    "- retorne a soma dos elementos com valor negativo\n",
    "- retorne a quantidade de vizinhos iguais"
   ]
  },
  {
   "cell_type": "code",
   "execution_count": 10,
   "metadata": {},
   "outputs": [
    {
     "name": "stdout",
     "output_type": "stream",
     "text": [
      "Maior elemento  43\n",
      "Soma dos valores 118\n",
      "Primeiro elemento:  2\n",
      "Média dos valores:  16.857142857142858\n",
      "Negativo: - 118\n"
     ]
    }
   ],
   "source": [
    "lista = [2,1,23,43,3,41,5]\n",
    "print(\"Maior elemento \",max(lista))\n",
    "soma = 0\n",
    "for l in lista:\n",
    "    soma = soma + l\n",
    "print(\"Soma dos valores\", soma)\n",
    "print(\"Primeiro elemento: \",lista[0])\n",
    "print(\"Média dos valores: \", soma/len(lista))\n",
    "print(\"Negativo: -\",soma)"
   ]
  },
  {
   "cell_type": "markdown",
   "metadata": {},
   "source": [
    "# 2 Faça um programa que receba duas listas e retorne True se são iguais ou False caso contrario.\n",
    "Duas listas são iguais se possuem os mesmos valores e na mesma ordem."
   ]
  },
  {
   "cell_type": "code",
   "execution_count": 13,
   "metadata": {},
   "outputs": [
    {
     "data": {
      "text/plain": [
       "False"
      ]
     },
     "execution_count": 13,
     "metadata": {},
     "output_type": "execute_result"
    }
   ],
   "source": [
    "lista1 = [2,2,23,43,3,41,5]\n",
    "lista2 = [2,1,23,43,3,41,5]\n",
    "lista1 == lista2"
   ]
  },
  {
   "cell_type": "markdown",
   "metadata": {},
   "source": [
    "# 3 Faça um programa que receba duas listas e retorne True se têm os mesmos elementos ou False caso contrário Duas listas possuem os mesmos elementos quando são compostas pelos mesmos valores, mas não obrigatoriamente na mesma ordem."
   ]
  },
  {
   "cell_type": "code",
   "execution_count": 15,
   "metadata": {},
   "outputs": [
    {
     "data": {
      "text/plain": [
       "False"
      ]
     },
     "execution_count": 15,
     "metadata": {},
     "output_type": "execute_result"
    }
   ],
   "source": [
    "lista1 = [2,2,23,43,3,41,5]\n",
    "lista2 = [2,1,23,43,3,41,5]\n",
    "lista1 == lista2"
   ]
  },
  {
   "cell_type": "markdown",
   "metadata": {},
   "source": [
    "# 4 Faça um programa que percorre uma lista com o seguinte formato: [['Brasil',\n",
    "'Italia', [10, 9]], ['Brasil', 'Espanha', [5, 7]], ['Italia', 'Espanha', [7,8]]]. Essa lista indica o número de faltas que cada time fez em cada jogo. Na lista acima, no jogo entre Brasil e Itália, o Brasil fez 10 faltas e a Itália fez 9.\n",
    "O programa deve imprimir na tela:\n",
    "- o total de faltas do campeonato\n",
    "- o time que fez mais faltas\n",
    "- o time que fez menos faltas"
   ]
  },
  {
   "cell_type": "code",
   "execution_count": null,
   "metadata": {},
   "outputs": [],
   "source": [
    "time = [['Brasil', 'Italia', [10, 2]],['Brasil', 'Espanha', [5, 7]],['Italia', 'Espanha', [7,8]]]\n",
    "continuar = 's'\n",
    "\n",
    "def menos_faltas (time):\n",
    "    menor = time[0][2][0]\n",
    "    for i in range(len(time)):\n",
    "        for j in range(2):\n",
    "             if time[i][2][j]<menor:\n",
    "                 menor = time[i][2][j]\n",
    "                 time_menor = time[i][j]\n",
    "    return time_menor\n",
    "\n",
    "def mais_faltas (time):\n",
    "    time_maior = time[0][0]\n",
    "    maior = time[0][2][0]\n",
    "    for i in range(len(time)):\n",
    "        for j in range(2):\n",
    "             if time[i][2][j]>maior:\n",
    "                 maior = time[i][2][j]\n",
    "                 time_maior = time[i][j]\n",
    "    return time_maior\n",
    "\n",
    "def total_faltas (time):\n",
    "    soma = 0\n",
    "    for i in range(len(time)):\n",
    "        for j in range(2):\n",
    "            soma += time[i][2][j]\n",
    "    return soma\n",
    "\n",
    "\n",
    "def adicionar_time (time):\n",
    "    time_1 = input('Digite o nome do primeiro time : ')\n",
    "    faltas_1 = int(input('Digite faltas do primeiro time : '))\n",
    "    time_2 = input('Digite o nome do segundo time : ')\n",
    "    faltas_2 = int(input('Digite faltas do segundo time : '))\n",
    "    time.append(time_1,time_2[faltas_1,faltas_2])\n",
    "    return (time)\n",
    "\n",
    "while continuar in ['s','S','Sim','sim']:\n",
    "    adicionar = input('Deseja adicionar mais um time a lista : ')\n",
    "    if adicionar in ['s','S','Sim','sim']:\n",
    "        adicionar_time(time)\n",
    "        continuar = input(' Deseja adicionar outro time ? : ')\n",
    "\n",
    "print(' Total de falta = ',total_faltas(time),' \\n Maior quantidade de faltas = ',mais_faltas(time),' \\n Menor quantidade de faltas = ',menos_faltas(time))"
   ]
  },
  {
   "cell_type": "markdown",
   "metadata": {},
   "source": [
    "# 5 Escreva um programa que conta a quantidade de vogais em uma string e armazena tal quantidade em um dicionário, onde a chave é a vogal considerada."
   ]
  },
  {
   "cell_type": "code",
   "execution_count": 23,
   "metadata": {},
   "outputs": [
    {
     "name": "stdout",
     "output_type": "stream",
     "text": [
      "a  =  2\n",
      "e  =  6\n",
      "i  =  2\n",
      "o  =  3\n",
      "u  =  2\n",
      "{'a': 2, 'e': 6, 'i': 2, 'o': 3, 'u': 2}\n"
     ]
    }
   ],
   "source": [
    "dic = {}\n",
    "vogais = ['a', 'e', 'i', 'o', 'u']\n",
    "\n",
    "for v in vogais:\n",
    "    dic[v] = 0\n",
    "    \n",
    "frase = \"Isto e um teste e ainda outro teste!\"\n",
    "\n",
    "for c in frase.lower():\n",
    "    if c in vogais:\n",
    "        dic[c] += 1\n",
    "\n",
    "for v in vogais:\n",
    "    print (v, \" = \", dic[v])\n",
    "print(dic)"
   ]
  },
  {
   "cell_type": "markdown",
   "metadata": {},
   "source": [
    "# 6 Escreva um programa que lê̂ duas notas de vários alunos e armazena tais notas em um dicionário, onde a chave é o nome do aluno. A entrada de dados deve terminar quando for lida uma string vazia como nome. Escreva uma função que retorna a média do aluno, dado seu nome."
   ]
  },
  {
   "cell_type": "code",
   "execution_count": 35,
   "metadata": {},
   "outputs": [
    {
     "name": "stdout",
     "output_type": "stream",
     "text": [
      "Nome: teste\n",
      "Nota 1: 1\n",
      "Nota 2: 2\n",
      "Nome: \n",
      "{0: {'nome': 'teste', 'notas': [1.0, 2.0]}}\n"
     ]
    }
   ],
   "source": [
    "nome = (input(\"Nome: \"));\n",
    "i = 0\n",
    "while(nome != ''):\n",
    "    nota1 = float(input(\"Nota 1: \"));\n",
    "    nota2 = float(input(\"Nota 2: \"));\n",
    "\n",
    "    dic = {}\n",
    "\n",
    "    dic[i] = {'nome' : nome, 'notas': [nota1, nota2]}\n",
    "    i = i + 1\n",
    "    nome = (input(\"Nome: \"));\n",
    "print(dic)"
   ]
  },
  {
   "cell_type": "markdown",
   "metadata": {},
   "source": [
    "# 7 Uma pista de Kart permite 10 voltas para cada um de 6 corredores. Escreva um programa que leia todos os tempos em segundos e os guarde em um dicionário, onde a chave é o nome do corredor. Ao final diga de quem foi a melhor volta da prova e em que volta; e ainda a classificação final em ordem (1o o campeão). O campeão é o que tem a menor média de tempos."
   ]
  },
  {
   "cell_type": "markdown",
   "metadata": {},
   "source": [
    "# 8 Escreva um programa para armazenar uma agenda de telefones em um dicionário. Cada pessoa pode ter um ou mais telefones e a chave do dicionário é o nome da pessoa. Seu programa deve ter as seguintes funções:\n",
    "- incluirNovoNome – essa função acrescenta um novo nome na agenda, com um ou\n",
    "mais telefones. Ela deve receber como argumentos o nome e os telefones.\n",
    "- incluirTelefone – essa função acrescenta um telefone em um nome existente na\n",
    "agenda. Caso o nome não exista na agenda, você̂ deve perguntar se a pessoa deseja\n",
    "inclui-lo. Caso a resposta seja afirmativa, use a função anterior para incluir o novo\n",
    "nome.\n",
    "- excluirTelefone – essa função exclui um telefone de uma pessoa que já está na\n",
    "agenda. Se a pessoa tiver apenas um telefone, ela deve ser excluída da agenda.\n",
    "- excluirNome – essa função exclui uma pessoa da agenda."
   ]
  },
  {
   "cell_type": "markdown",
   "metadata": {},
   "source": [
    "# 9 Faça um programa que leia um arquivo texto contendo uma lista de endereços IP e gere um outro arquivo, contendo um relatório dos endereços IP válidos e inválidos.\n",
    "O arquivo de entrada possui o seguinte formato:\n",
    "200.135.80.9\n",
    "192.168.1.1\n",
    "8.35.67.74\n",
    "257.32.4.5\n",
    "85.345.1.2\n",
    "1.2.3.4\n",
    "9.8.234.5\n",
    "192.168.0.256\n",
    "O arquivo de saída possui o seguinte formato:\n",
    "[Endereços válidos:]\n",
    "200.135.80.9\n",
    "192.168.1.1\n",
    "8.35.67.74\n",
    "1.2.3.4\n",
    "[Endereços inválidos:]\n",
    "257.32.4.5\n",
    "85.345.1.2\n",
    "9.8.234.5\n",
    "192.168.0.256"
   ]
  },
  {
   "cell_type": "code",
   "execution_count": 42,
   "metadata": {},
   "outputs": [
    {
     "ename": "FileNotFoundError",
     "evalue": "[Errno 2] No such file or directory: 'C:/jhonas/ip.txt'",
     "output_type": "error",
     "traceback": [
      "\u001b[0;31m---------------------------------------------------------------------------\u001b[0m",
      "\u001b[0;31mFileNotFoundError\u001b[0m                         Traceback (most recent call last)",
      "\u001b[0;32m<ipython-input-42-974b0a8314d4>\u001b[0m in \u001b[0;36m<module>\u001b[0;34m()\u001b[0m\n\u001b[0;32m----> 1\u001b[0;31m \u001b[0mf\u001b[0m\u001b[0;34m=\u001b[0m\u001b[0mopen\u001b[0m\u001b[0;34m(\u001b[0m\u001b[0;34m\"C:/jhonas/ip.txt\"\u001b[0m\u001b[0;34m,\u001b[0m\u001b[0;34m\"r\"\u001b[0m\u001b[0;34m)\u001b[0m\u001b[0;34m\u001b[0m\u001b[0m\n\u001b[0m\u001b[1;32m      2\u001b[0m \u001b[0mlista\u001b[0m \u001b[0;34m=\u001b[0m \u001b[0mf\u001b[0m\u001b[0;34m.\u001b[0m\u001b[0mreadlines\u001b[0m\u001b[0;34m(\u001b[0m\u001b[0;34m)\u001b[0m\u001b[0;34m\u001b[0m\u001b[0m\n\u001b[1;32m      3\u001b[0m \u001b[0mf\u001b[0m\u001b[0;34m.\u001b[0m\u001b[0mclose\u001b[0m\u001b[0;34m(\u001b[0m\u001b[0;34m)\u001b[0m\u001b[0;34m\u001b[0m\u001b[0m\n\u001b[1;32m      4\u001b[0m \u001b[0mipvalido\u001b[0m \u001b[0;34m=\u001b[0m \u001b[0;34m\"\"\u001b[0m\u001b[0;34m\u001b[0m\u001b[0m\n\u001b[1;32m      5\u001b[0m \u001b[0mipnaovalido\u001b[0m \u001b[0;34m=\u001b[0m \u001b[0;34m\"\"\u001b[0m\u001b[0;34m\u001b[0m\u001b[0m\n",
      "\u001b[0;31mFileNotFoundError\u001b[0m: [Errno 2] No such file or directory: 'C:/jhonas/ip.txt'"
     ]
    }
   ],
   "source": [
    "f=open(\"C:/jhonas/ip.txt\",\"r\")\n",
    "lista = f.readlines()\n",
    "f.close()\n",
    "ipvalido = \"\"\n",
    "ipnaovalido = \"\"\n",
    "for i in range (len(lista)):\n",
    "    lista2 = lista[i].rsplit(\".\")\n",
    "    if (int(lista2[0])<=255 and int(lista2[1])<=255 and int(lista2[2])<=255 and int(lista2[3])<=255):\n",
    "        ipvalido += lista[i] + \"\\n\"\n",
    "    else:\n",
    "        ipnaovalido += lista[i] + \"\\n\"\n",
    "f=open(\"C:/Python31/ipvalido.txt\",\"w\")\n",
    "f.write(ipvalido)\n",
    "f.close()\n",
    "f=open(\"C:/jhonas/ipnaovalido.txt\",\"w\")\n",
    "f.write(ipnaovalido)\n",
    "f.close()\n",
    "print (\"arquivos gerados com sucesso!\")"
   ]
  },
  {
   "cell_type": "markdown",
   "metadata": {},
   "source": [
    "# 10 A ACME Inc., uma empresa de 500 funcionários, está tendo problemas de espaço em disco no seu servidor de arquivos. Para tentar resolver este problema, o Administrador de Rede precisa saber qual o espaço ocupado pelos usuários, e identificar os usuários com maior espaço ocupado. Através de um programa, baixado da Internet, ele conseguiu gerar o seguinte arquivo, chamado \"usuarios.txt\":\n",
    "alexandre 456123789\n",
    "anderson 1245698456\n",
    "antonio 123456456\n",
    "carlos 91257581\n",
    "cesar 987458\n",
    "rosemary 789456125\n",
    "Neste arquivo, o nome do usuário possui 15 caracteres. A partir deste arquivo, você\n",
    "deve criar um programa que gere um relatório, chamado \"relatório.txt\", no seguinte\n",
    "formato:"
   ]
  },
  {
   "cell_type": "code",
   "execution_count": 43,
   "metadata": {},
   "outputs": [
    {
     "ename": "FileNotFoundError",
     "evalue": "[Errno 2] No such file or directory: 'usuarios.txt'",
     "output_type": "error",
     "traceback": [
      "\u001b[0;31m---------------------------------------------------------------------------\u001b[0m",
      "\u001b[0;31mFileNotFoundError\u001b[0m                         Traceback (most recent call last)",
      "\u001b[0;32m<ipython-input-43-9e518021a5f8>\u001b[0m in \u001b[0;36m<module>\u001b[0;34m()\u001b[0m\n\u001b[1;32m     19\u001b[0m \u001b[0mposicao\u001b[0m \u001b[0;34m=\u001b[0m \u001b[0;36m1\u001b[0m\u001b[0;34m\u001b[0m\u001b[0m\n\u001b[1;32m     20\u001b[0m \u001b[0mtotal\u001b[0m \u001b[0;34m=\u001b[0m \u001b[0mmedia\u001b[0m \u001b[0;34m=\u001b[0m \u001b[0;36m0\u001b[0m\u001b[0;34m\u001b[0m\u001b[0m\n\u001b[0;32m---> 21\u001b[0;31m \u001b[0;32mwith\u001b[0m \u001b[0mopen\u001b[0m \u001b[0;34m(\u001b[0m\u001b[0;34m\"usuarios.txt\"\u001b[0m\u001b[0;34m,\u001b[0m\u001b[0;34m\"r\"\u001b[0m\u001b[0;34m)\u001b[0m \u001b[0;32mas\u001b[0m \u001b[0marquivo\u001b[0m\u001b[0;34m:\u001b[0m\u001b[0;34m\u001b[0m\u001b[0m\n\u001b[0m\u001b[1;32m     22\u001b[0m    \u001b[0mvalor\u001b[0m \u001b[0;34m=\u001b[0m \u001b[0;36m0\u001b[0m\u001b[0;34m\u001b[0m\u001b[0m\n\u001b[1;32m     23\u001b[0m    \u001b[0;32mfor\u001b[0m \u001b[0mlinha\u001b[0m \u001b[0;32min\u001b[0m \u001b[0marquivo\u001b[0m\u001b[0;34m:\u001b[0m\u001b[0;34m\u001b[0m\u001b[0m\n",
      "\u001b[0;31mFileNotFoundError\u001b[0m: [Errno 2] No such file or directory: 'usuarios.txt'"
     ]
    }
   ],
   "source": [
    "def toMB(tamanhoEmBytes):\n",
    "   tamanhoEmBytes = float(tamanhoEmBytes)\n",
    "   return (float(tamanhoEmBytes/(1024*1024)))\n",
    "   \n",
    "def percentualPorUsuario(lista, total):\n",
    "   percentual = (lista[3]/total)*100\n",
    "   #percentual = \"{0:.2f}\".format(percentual)\n",
    "   lista.insert((len(cadaUsuario)),percentual)\n",
    "\n",
    "def espacoMedioOcupado(lista, total):\n",
    "   media = 0\n",
    "   elementos = len(lista)\n",
    "   media = (total)/(elementos+1)\n",
    "   #media = \"{0:.2f}\".format(media)\n",
    "   return media\n",
    "\n",
    "#MAIN\n",
    "usuarios = []\n",
    "posicao = 1\n",
    "total = media = 0\n",
    "with open (\"usuarios.txt\",\"r\") as arquivo:\n",
    "   valor = 0\n",
    "   for linha in arquivo:\n",
    "      usuarios.append(linha.split()) \n",
    "\n",
    "   for cadaUsuario in usuarios:\n",
    "      cadaUsuario.insert(0,posicao)\n",
    "      valor = toMB(float(cadaUsuario[2]))\n",
    "      total += valor\n",
    "      cadaUsuario.insert((len(cadaUsuario)),valor)\n",
    "      posicao+=1\n",
    "\n",
    "   for cadaUsuario in usuarios:\n",
    "      percentualPorUsuario(cadaUsuario, total)\n",
    "\n",
    "media = espacoMedioOcupado(cadaUsuario,total)\n",
    "\n",
    "with open (\"relatorio.txt\",\"w\") as arquivo:\n",
    "   arquivo.write(\"ACME Inc.               Uso do espaço em disco pelos usuários.\\n\")\n",
    "   arquivo.write(\"--------------------------------------------------------------\\n\")\n",
    "   arquivo.write(\"Nr.\\tUsuário        \\tEspaço utilizado\\t% do uso\\n\\n\")\n",
    "\n",
    "   for cadaUsuario in usuarios:\n",
    "      percentagem=\"{0:.2f}\".format(round(cadaUsuario[3],2))\n",
    "      arquivo.write(str(cadaUsuario[0])+'\\t'+\"{:<15}\".format(cadaUsuario[1])+'\\t'+\"{:<16}\".format(percentagem)+'MB'+'\\t'+\"{0:.2f}\".format(cadaUsuario[4])+'%'+'\\n')\n",
    "\n",
    "   arquivo.write('\\n\\nEspaço Total Ocupado: ' + \"{0:.2f}\".format(total) + ' MB')\n",
    "   arquivo.write('\\n\\nEspaço médio Ocupado: ' + \"{0:.2f}\".format(media) + ' MB')\n",
    "   arquivo.close()\n",
    "\n",
    "with open (\"relatorio.txt\",\"r\") as arquivo:\n",
    "   print(arquivo.read())"
   ]
  }
 ],
 "metadata": {
  "kernelspec": {
   "display_name": "Python 3",
   "language": "python",
   "name": "python3"
  },
  "language_info": {
   "codemirror_mode": {
    "name": "ipython",
    "version": 3
   },
   "file_extension": ".py",
   "mimetype": "text/x-python",
   "name": "python",
   "nbconvert_exporter": "python",
   "pygments_lexer": "ipython3",
   "version": "3.6.4"
  }
 },
 "nbformat": 4,
 "nbformat_minor": 2
}
