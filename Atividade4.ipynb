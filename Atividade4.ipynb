{
 "cells": [
  {
   "cell_type": "markdown",
   "metadata": {},
   "source": [
    "# 1 Menor de dois pares: Escreva uma função que retorne o menor de dois números dados se ambos os números forem pares, mas retorna o maior se um dos dois for ímpar. Exemplo:\n",
    "menor_de_dois_pares(2,4) --> 2\n",
    "menor_de_dois_pares (2,5) --> 5"
   ]
  },
  {
   "cell_type": "code",
   "execution_count": 7,
   "metadata": {},
   "outputs": [
    {
     "name": "stdout",
     "output_type": "stream",
     "text": [
      "Vlr 1: 2\n",
      "Vlr 2: 1\n",
      "menor 1.0\n"
     ]
    }
   ],
   "source": [
    "numero1 = float(input(\"Vlr 1: \"));\n",
    "numero2 = float(input(\"Vlr 2: \"));\n",
    "if numero1 % 2 == 0 and numero2 % 2 == 0:\n",
    "    if(numero1 > numero2):\n",
    "        print(\"menor: \", numero2)\n",
    "    else:\n",
    "        print(\"menor: \", numero1)\n",
    "else:\n",
    "    if numero1 % 2 == 1 and numero2 % 2 == 1:\n",
    "        if(numero1 > numero2):\n",
    "            print(\"menor: \", numero2)\n",
    "        else:\n",
    "            print(\"menor: \", numero1)\n",
    "    else:\n",
    "        if numero1 % 2 == 1:\n",
    "            print(\"menor\", numero1)\n",
    "        if numero2 % 2 == 1:\n",
    "            print(\"menor\", numero2)"
   ]
  },
  {
   "cell_type": "markdown",
   "metadata": {},
   "source": [
    "# 2 Mesma letra: Escreva uma função que receba uma string com duas palavras e retorne True se ambas palavras começarem com a mesma letra. Exemplo:"
   ]
  },
  {
   "cell_type": "code",
   "execution_count": 17,
   "metadata": {},
   "outputs": [
    {
     "name": "stdout",
     "output_type": "stream",
     "text": [
      "Palavras: as\n",
      "a\n",
      "\n"
     ]
    }
   ],
   "source": [
    "palavra = (input(\"Palavras: \"));\n",
    "primeira = ''\n",
    "segunda = ''\n",
    "i = 0\n",
    "passou = ''\n",
    "for p in palavra:\n",
    "    if i == 0:\n",
    "        primeira = p\n",
    "    if p == ' ':\n",
    "        passou = 'sim'\n",
    "    if passou == 'sim':\n",
    "        segunda = p\n",
    "        print(p)\n",
    "        passou = ''\n",
    "    i = i + 1\n",
    "print(primeira)\n",
    "print(segunda)"
   ]
  },
  {
   "cell_type": "markdown",
   "metadata": {},
   "source": [
    "# 3 Mestre Yoda: Dada uma sentença, a função deve retornar a sentença com as palavras na ordem reversa. Exemplo:"
   ]
  },
  {
   "cell_type": "code",
   "execution_count": null,
   "metadata": {},
   "outputs": [],
   "source": []
  },
  {
   "cell_type": "code",
   "execution_count": 36,
   "metadata": {},
   "outputs": [
    {
     "name": "stdout",
     "output_type": "stream",
     "text": [
      "Palavras: tes\n",
      "['tes']\n"
     ]
    }
   ],
   "source": [
    "txt = input(\"Palavras: \");\n",
    "words = txt.split()\n",
    "t = list()\n",
    "for word in words:\n",
    "    t.append((len(word), word))\n",
    "    t.sort(reverse=True)\n",
    "    res = list()\n",
    "for length, word in t:\n",
    "    res.append(word)\n",
    "    \n",
    "palavra = res[::-1]\n",
    "print(palavra)"
   ]
  },
  {
   "cell_type": "markdown",
   "metadata": {},
   "source": [
    "# 4 Tem 33: Faça uma função que retorne True se, dada uma lista de inteiros, houver em alguma posição da lista um 3 do lado de outro 3. Exemplo:"
   ]
  },
  {
   "cell_type": "code",
   "execution_count": 42,
   "metadata": {},
   "outputs": [],
   "source": [
    "lista = [1,2,3,2,1,2,3,3,1]\n",
    "valor1 = 's'\n",
    "valor2 = 's'\n",
    "i = 1;\n",
    "for l in lista:\n",
    "    if l == 3 and i < len(lista):\n",
    "        if l + 1 == 3:\n",
    "            print(True)\n",
    "    i = i + 1"
   ]
  },
  {
   "cell_type": "markdown",
   "metadata": {},
   "source": [
    "# 5 Blackjack: Faça uma função que receba 3 inteiros entre 1 e 11. Se a soma deles for menor que 21, retorne o valor da soma. Se for mair do que 21 e houver um 11, subtraia 10 da soma antes de apresentar o resultado. Se o valor da soma passar de 21, retorne ‘ESTOUROU’. Exemplo:"
   ]
  },
  {
   "cell_type": "code",
   "execution_count": 43,
   "metadata": {},
   "outputs": [
    {
     "name": "stdout",
     "output_type": "stream",
     "text": [
      "Vlr 1: 9\n",
      "Vlr 2: 9\n",
      "Vlr 3: 9\n"
     ]
    }
   ],
   "source": [
    "numero1 = float(input(\"Vlr 1: \"));\n",
    "numero2 = float(input(\"Vlr 2: \"));\n",
    "numero3 = float(input(\"Vlr 3: \"));\n",
    "soma = numero1+numero2+numero3\n",
    "if soma < 21:\n",
    "    print(soma)\n",
    "else:\n",
    "    if numero1 == 11 or numero2 == 11 or numero3 == 11:\n",
    "        soma = soma - 10\n",
    "        print(soma)\n",
    "        if soma > 21:\n",
    "            print(\"ESTOUROU\")\n",
    "    "
   ]
  },
  {
   "cell_type": "markdown",
   "metadata": {},
   "source": [
    "# 6 Espião: Escreva uma função que receba uma lista de inteiros e retorne True se contém um 007 em ordem, mesmo que não contínuo. Exemplo:"
   ]
  },
  {
   "cell_type": "code",
   "execution_count": 44,
   "metadata": {},
   "outputs": [],
   "source": [
    "lista = [1,2,3,2,1,2,3,3,1]\n",
    "valor1 = 's'\n",
    "valor2 = 's'\n",
    "i = 1;\n",
    "for l in lista:\n",
    "    if l == 0 and i < len(lista):\n",
    "        if l + 1 == 0:\n",
    "            if l + 1 == 0:\n",
    "                print(True)\n",
    "    i = i + 1"
   ]
  }
 ],
 "metadata": {
  "kernelspec": {
   "display_name": "Python 3",
   "language": "python",
   "name": "python3"
  },
  "language_info": {
   "codemirror_mode": {
    "name": "ipython",
    "version": 3
   },
   "file_extension": ".py",
   "mimetype": "text/x-python",
   "name": "python",
   "nbconvert_exporter": "python",
   "pygments_lexer": "ipython3",
   "version": "3.6.4"
  }
 },
 "nbformat": 4,
 "nbformat_minor": 2
}
