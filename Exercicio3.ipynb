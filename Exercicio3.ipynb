{
 "cells": [
  {
   "cell_type": "markdown",
   "metadata": {},
   "source": [
    "1 Faça um Programa que peça dois números e imprima o maior deles."
   ]
  },
  {
   "cell_type": "code",
   "execution_count": 8,
   "metadata": {},
   "outputs": [
    {
     "name": "stdout",
     "output_type": "stream",
     "text": [
      "Digite um número 1\n",
      "Digite um número 2\n",
      "O maior número é:  2\n"
     ]
    }
   ],
   "source": [
    "a = int(input('Digite um número '))\n",
    "b = int(input('Digite um número '))\n",
    "if (int(a) > int(b)):\n",
    "    print('O maior número é: ', a)\n",
    "else:\n",
    "    print('O maior número é: ', b)"
   ]
  },
  {
   "cell_type": "markdown",
   "metadata": {},
   "source": [
    "2 Faça um Programa que verifique se uma letra digitada é vogal ou consoante."
   ]
  },
  {
   "cell_type": "code",
   "execution_count": 13,
   "metadata": {},
   "outputs": [
    {
     "name": "stdout",
     "output_type": "stream",
     "text": [
      "Digite uma letra f\n",
      "A letra  f é consoante\n"
     ]
    }
   ],
   "source": [
    "letra = input('Digite uma letra ')\n",
    "if letra == 'a':\n",
    "    print('A letra ', letra, 'é vogal')\n",
    "elif letra == 'e':\n",
    "    print('A letra ', letra, 'é vogal')\n",
    "elif letra == 'i':\n",
    "    print('A letra ', letra, 'é vogal')\n",
    "elif letra == 'o':\n",
    "    print('A letra ', letra, 'é vogal')\n",
    "elif letra == 'u':\n",
    "    print('A letra ', letra, 'é vogal')\n",
    "else:\n",
    "    print('A letra ', letra, 'é consoante')"
   ]
  },
  {
   "cell_type": "markdown",
   "metadata": {},
   "source": [
    "3 Faça um programa para a leitura de duas notas parciais de um aluno. O programa\n",
    "deve calcular a média alcançada por aluno e apresentar:\n",
    "- A mensagem \"Aprovado\", se a média alcançada for maior ou igual a sete;\n",
    "- A mensagem \"Reprovado\", se a média for menor do que sete;\n",
    "- A mensagem \"Aprovado com Distinção\", se a média for igual a dez."
   ]
  },
  {
   "cell_type": "code",
   "execution_count": 16,
   "metadata": {},
   "outputs": [
    {
     "name": "stdout",
     "output_type": "stream",
     "text": [
      "Digite um número 10\n",
      "Digite um número 10\n",
      "Aprovado com Distinção\n"
     ]
    }
   ],
   "source": [
    "a = float(input('Digite um número '))\n",
    "b = float(input('Digite um número '))\n",
    "media = (a+b)/2\n",
    "if (media == 10):\n",
    "    print('Aprovado com Distinção')\n",
    "elif media >= 7.0:\n",
    "    print('Aprovado')\n",
    "else:\n",
    "    print('Reprovado')"
   ]
  },
  {
   "cell_type": "markdown",
   "metadata": {},
   "source": [
    "4 Faça um Programa que leia três números e mostre-os em ordem decrescente."
   ]
  },
  {
   "cell_type": "code",
   "execution_count": 61,
   "metadata": {},
   "outputs": [
    {
     "name": "stdout",
     "output_type": "stream",
     "text": [
      "Digite um número 5\n",
      "Digite um número 1\n",
      "Digite um número 2\n",
      "5.0\n",
      "2.0\n",
      "1.0\n"
     ]
    }
   ],
   "source": [
    "a = float(input('Digite um número '))\n",
    "b = float(input('Digite um número '))\n",
    "c = float(input('Digite um número '))\n",
    "lista = [a,b,c]\n",
    "lista.sort()\n",
    "ultimoDado = len(lista)\n",
    "for num in lista:\n",
    "    print(lista[ultimoDado-1])\n",
    "    ultimoDado = ultimoDado-1;"
   ]
  },
  {
   "cell_type": "markdown",
   "metadata": {},
   "source": [
    "5 As Organizações Tabajara resolveram dar um aumento de salário aos seus\n",
    "colaboradores e lhe contrataram para desenvolver o programa que calculará os\n",
    "reajustes.\n",
    "Faça um programa que recebe o salário de um colaborador e o reajuste segundo o\n",
    "seguinte critério, baseado no salário atual:\n",
    "- salários até R$ 280,00 (incluindo) : aumento de 20%\n",
    "- salários entre R$ 280,00 e R$ 700,00 : aumento de 15%\n",
    "- salários entre R$ 700,00 e R$ 1500,00 : aumento de 10%\n",
    "- salários de R$ 1500,00 em diante : aumento de 5% Após o aumento ser realizado,\n",
    "informe na tela:\n",
    "- o salário antes do reajuste;\n",
    "- o percentual de aumento aplicado;\n",
    "- o valor do aumento;\n",
    "- o novo salário, após o aumento."
   ]
  },
  {
   "cell_type": "code",
   "execution_count": 81,
   "metadata": {},
   "outputs": [
    {
     "name": "stdout",
     "output_type": "stream",
     "text": [
      "Digite o salário1500\n",
      "O salário sem reajuste é : 1500.0\n",
      "O % de reajuste é de 5%\n",
      "O aumento é de:  75.0\n",
      "O novo salário é de:  1575.0\n"
     ]
    }
   ],
   "source": [
    "salario = float(input('Digite o salário'))\n",
    "reajuste = salario\n",
    "if (salario <= 280):\n",
    "    print('O salário sem reajuste é :',salario)\n",
    "    print('O % de reajuste é de 20%')\n",
    "    reajuste = (salario*0.20);\n",
    "    print('O aumento é de: ', reajuste)\n",
    "    print('O novo salário é de: ', reajuste + salario)\n",
    "elif salario > 280 and salario < 700:\n",
    "    print('O salário sem reajuste é :',salario)\n",
    "    print('O % de reajuste é de 15%')\n",
    "    reajuste = (salario*0.15);\n",
    "    print('O aumento é de: ', reajuste)\n",
    "    print('O novo salário é de: ', reajuste + salario)\n",
    "elif salario >= 700 and salario < 1500:\n",
    "    print('O salário sem reajuste é :',salario)\n",
    "    print('O % de reajuste é de 10%')\n",
    "    reajuste = (salario*0.10);\n",
    "    print('O aumento é de: ', reajuste)\n",
    "    print('O novo salário é de: ', reajuste + salario)\n",
    "elif salario >= 1500:\n",
    "    print('O salário sem reajuste é :',salario)\n",
    "    print('O % de reajuste é de 5%')\n",
    "    reajuste = (salario*0.05);\n",
    "    print('O aumento é de: ', reajuste)\n",
    "    print('O novo salário é de: ', reajuste + salario)"
   ]
  },
  {
   "cell_type": "markdown",
   "metadata": {},
   "source": [
    "6 Faca um Programa que leia um número e exiba o dia correspondente da semana.\n",
    "(1-Domingo, 2- Segunda, etc.), se digitar outro valor deve aparecer valor inválido."
   ]
  },
  {
   "cell_type": "code",
   "execution_count": 74,
   "metadata": {},
   "outputs": [
    {
     "name": "stdout",
     "output_type": "stream",
     "text": [
      "Digite um número 9\n",
      "valor inválido\n"
     ]
    }
   ],
   "source": [
    "diaSemana = int(input('Digite um número '))\n",
    "if diaSemana == 1:\n",
    "    print('1 - Domingo')\n",
    "elif diaSemana == 2:\n",
    "    print('2 - Segunda')\n",
    "elif diaSemana == 3:\n",
    "    print('3 - Terça')\n",
    "elif diaSemana == 4:\n",
    "    print('4 - Quarta')\n",
    "elif diaSemana == 5:\n",
    "    print('5 - Quinta')\n",
    "elif diaSemana == 6:\n",
    "    print('6 - Sexta')\n",
    "elif diaSemana == 7:\n",
    "    print('7 - Sábado')\n",
    "else: \n",
    "    print('valor inválido')"
   ]
  },
  {
   "cell_type": "markdown",
   "metadata": {},
   "source": [
    "7 Faça um programa que lê as duas notas parciais obtidas por um aluno numa\n",
    "disciplina ao longo de um semestre, e calcule a sua média. A atribuição de conceitos\n",
    "obedece à tabela abaixo:\n",
    "Média de Aproveitamento Conceito\n",
    "Entre 9.0 e 10.0 A\n",
    "Entre 7.5 e 9.0 B\n",
    "Entre 6.0 e 7.5 C\n",
    "Entre 4.0 e 6.0 D\n",
    "Entre 4.0 e zero E\n",
    "O algoritmo deve mostrar na tela as notas, a média, o conceito correspondente e a\n",
    "mensagem “APROVADO” se o conceito for A, B ou C ou “REPROVADO” se o conceito\n",
    "for D ou E."
   ]
  },
  {
   "cell_type": "code",
   "execution_count": 82,
   "metadata": {},
   "outputs": [
    {
     "name": "stdout",
     "output_type": "stream",
     "text": [
      "Digite um número 5\n",
      "Digite um número 5\n",
      "REPROVADO\n"
     ]
    }
   ],
   "source": [
    "a = float(input('Digite um número '))\n",
    "b = float(input('Digite um número '))\n",
    "resultado = (a+b)/2\n",
    "if resultado >= 9 and resultado <= 10:\n",
    "    print('APROVADO')\n",
    "elif resultado >7.5 and resultado <= 8.5:\n",
    "    print('APROVADO')\n",
    "elif resultado >=6 and resultado <= 7.5:\n",
    "    print('APROVADO')\n",
    "elif resultado >=4.0 and resultado < 6:\n",
    "    print('REPROVADO')\n",
    "elif resultado <4 and resultado > 0:\n",
    "    print('REPROVADO')"
   ]
  },
  {
   "cell_type": "markdown",
   "metadata": {},
   "source": [
    "8 Faca um Programa que peça os 3 lados de um triângulo. O programa deverá\n",
    "informar se os valores podem ser um triângulo. Indique, caso os lados formem um\n",
    "triângulo, se o mesmo é: equilátero, isósceles ou escaleno.\n",
    "Dicas:\n",
    "- Três lados formam um triângulo quando a soma de quaisquer dois lados for maior\n",
    "que o terceiro;\n",
    "- Triângulo Equilátero: três lados iguais;\n",
    "- Triângulo Isósceles: quaisquer dois lados iguais;\n",
    "- Triângulo Escaleno: três lados diferentes;"
   ]
  },
  {
   "cell_type": "code",
   "execution_count": 93,
   "metadata": {},
   "outputs": [
    {
     "name": "stdout",
     "output_type": "stream",
     "text": [
      "Digite um número 3\n",
      "Digite um número 3\n",
      "Digite um número 3\n",
      "Equilátero\n"
     ]
    }
   ],
   "source": [
    "a = float(input('Digite um número '))\n",
    "b = float(input('Digite um número '))\n",
    "c = float(input('Digite um número '))\n",
    "if a != b and a != c and b != c:\n",
    "    print('ESCALENO')\n",
    "elif a == b and a == c and b == c:\n",
    "    print('Equilátero')\n",
    "elif a == b or a == c or b == c:\n",
    "    print('ISÓSCELES')\n",
    "else:\n",
    "    print('Não é triangulo')"
   ]
  },
  {
   "cell_type": "markdown",
   "metadata": {},
   "source": [
    "9 Faça um programa que calcule as raízes de uma equação do segundo grau, na\n",
    "forma ax2 + bx + c. O programa deverá pedir osvalores de a, b e c e fazer as\n",
    "consistências, informando ao usuário nas seguintes situações:\n",
    "- Se o usuário informar o valor de A igual a zero, a equação não é do segundo grau e\n",
    "o programa não deve fazer pedir os demais valores, sendo encerrado;\n",
    "- Se o delta calculado for negativo, a equação não possui raizes reais. Informe ao\n",
    "usuário e encerre o programa;\n",
    "- Se o delta calculado for igual a zero a equação possui apenas uma raiz real;\n",
    "informe-a ao usuário;\n",
    "- Se o delta for positivo, a equação possui duas raiz reais; informe-as ao usuário;"
   ]
  },
  {
   "cell_type": "code",
   "execution_count": 105,
   "metadata": {},
   "outputs": [
    {
     "name": "stdout",
     "output_type": "stream",
     "text": [
      "Digite um número 1\n",
      "Digite um número 2\n",
      "Digite um número 2\n",
      "Não possuem raizes\n"
     ]
    }
   ],
   "source": [
    "a = float(input('Digite um número '))\n",
    "if a != 0:\n",
    "    b = float(input('Digite um número '))\n",
    "    c = float(input('Digite um número '))\n",
    "    delta = b**2-4*a*c\n",
    "    if delta < 0:\n",
    "        print('Não possuem raizes')\n",
    "    else:\n",
    "        print('possuem raizes do delta', delta)\n",
    "else:\n",
    "    print('Não é uma equação de segundo grau')"
   ]
  },
  {
   "cell_type": "markdown",
   "metadata": {},
   "source": [
    "10 Faça um Programa para um caixa eletrônico. O programa deverá perguntar ao\n",
    "usuário a valor do saque e depois informar quantas notas de cada valor serão\n",
    "fornecidas. As notas disponíveis serão as de 1, 5, 10, 50 e 100 reais. O valor mínimo é\n",
    "de 10 reais e o máximo de 600 reais. O programa não deve se preocupar com a\n",
    "quantidade de notas existentes na máquina.\n",
    "- Exemplo 1: Para sacar a quantia de 256 reais, o programa fornece duas notas de\n",
    "100, uma nota de 50, uma nota de 5 e uma nota de 1;\n",
    "- Exemplo 2: Para sacar a quantia de 399 reais, o programa fornece três notas de\n",
    "100, uma nota de 50, quatro notas de 10, uma nota de 5 e quatro notas de 1."
   ]
  },
  {
   "cell_type": "code",
   "execution_count": 18,
   "metadata": {},
   "outputs": [
    {
     "name": "stdout",
     "output_type": "stream",
     "text": [
      "Digite o valor para sacar 21\n",
      "Qnt total de cedula de  20  é  1\n",
      "Qnt total de cedula de  1  é  1\n"
     ]
    }
   ],
   "source": [
    "a = int(input('Digite o valor para sacar '))\n",
    "total = a\n",
    "cedula = 100\n",
    "qntCedula = 0\n",
    "while True:\n",
    "    if total >= cedula:\n",
    "        total = total - cedula\n",
    "        qntCedula = qntCedula + 1\n",
    "    else:\n",
    "        if qntCedula > 0:\n",
    "            print(\"Qnt total de cedula de \", cedula, \" é \", qntCedula)\n",
    "            qntCedula = 0\n",
    "        if cedula == 100:\n",
    "            cedula = 50\n",
    "        elif cedula == 50:\n",
    "            cedula = 20\n",
    "        elif cedula == 20:\n",
    "            cedula = 10\n",
    "        elif cedula == 10:\n",
    "            cedula = 5\n",
    "        elif cedula == 5:\n",
    "            cedula = 1\n",
    "        elif total == 0:\n",
    "            break\n",
    "        "
   ]
  },
  {
   "cell_type": "markdown",
   "metadata": {},
   "source": [
    "11 Faça um programa que faça 5 perguntas para uma pessoa sobre um crime. As\n",
    "perguntas são:\n",
    "\"Telefonou para a vítima?\"\n",
    "\"Esteve no local do crime?\"\n",
    "\"Mora perto da vítima?\"\n",
    "\"Devia para a vítima?\"\n",
    "\"Já trabalhou com a vítima?\"\n",
    "O programa deve no final emitir uma classificação sobre a participação da pessoa no\n",
    "crime. Se a pessoa responder positivamente a 2 questões ela deve ser classificada\n",
    "como \"Suspeita\", entre 3 e 4 como \"Cúmplice\" e 5 como \"Assassino\". Caso contrário,\n",
    "ele será classificado como \"Inocente\"."
   ]
  },
  {
   "cell_type": "code",
   "execution_count": 26,
   "metadata": {},
   "outputs": [
    {
     "name": "stdout",
     "output_type": "stream",
     "text": [
      "Telefonou para a vítima? SIM\n",
      "Esteve no local do crime? SIM\n",
      "Mora perto da vítima? NAO\n",
      "Devia para a vítima? NAO\n",
      "Já trabalhou com a vítima? NAO\n",
      "Inocente\n"
     ]
    }
   ],
   "source": [
    "a = input('Telefonou para a vítima? ')\n",
    "b = input('Esteve no local do crime? ')\n",
    "c = input('Mora perto da vítima? ')\n",
    "d = input('Devia para a vítima? ')\n",
    "e = input('Já trabalhou com a vítima? ')\n",
    "total = 0\n",
    "if a == 'SIM':\n",
    "    total+=1\n",
    "elif b == 'SIM':\n",
    "    total+=1\n",
    "elif c == 'SIM':\n",
    "    total+=1\n",
    "elif d == 'SIM':\n",
    "    total+=1\n",
    "elif e == 'SIM':\n",
    "    total += 1\n",
    "if total == 1:\n",
    "    print('Inocente')\n",
    "elif total == 2:\n",
    "    print('Suspeito')\n",
    "elif total == 3 or total == 4:\n",
    "    print('Cúmplice')\n",
    "elif total == 5:\n",
    "    print('Assassino')"
   ]
  },
  {
   "cell_type": "markdown",
   "metadata": {},
   "source": [
    "12 Uma fruteira está vendendo frutas com a seguinte tabela de preços:\n",
    "Até 5 Kg Acima de 5 Kg\n",
    "Morango R$ 2,50 por Kg R$ 2,20 por Kg\n",
    "Maçã R$ 1,80 por Kg R$ 1,50 por Kg\n",
    "Se o cliente comprar mais de 8 Kg em frutas ou o valor total da compra ultrapassar\n",
    "R$ 25,00, receberá ainda um desconto de 10% sobre este total. Escreva um\n",
    "algoritmo para ler a quantidade (em Kg) de morangos e a quantidade (em Kg) de\n",
    "maças adquiridas e escreva o valor a ser pago pelo cliente."
   ]
  },
  {
   "cell_type": "code",
   "execution_count": 37,
   "metadata": {},
   "outputs": [
    {
     "name": "stdout",
     "output_type": "stream",
     "text": [
      "KG DE MORANGO 1\n",
      "KG DE MAÇA 1\n",
      "Valor à pagar é de  4.3\n"
     ]
    }
   ],
   "source": [
    "a = int(input('KG DE MORANGO '))\n",
    "b = int(input('KG DE MAÇA '))\n",
    "total = a + b\n",
    "pagarA = 0.0\n",
    "pagarB = 0.0\n",
    "if a <= 5:\n",
    "    pagarA = 2.5*a\n",
    "else:\n",
    "    pagarA = 2.2*a\n",
    "if b <= 5:\n",
    "    pagarB = 1.8*b\n",
    "else:\n",
    "    pagarB = 1.5*b\n",
    "if total > 8 or (pagarA + pagarB) > 25.0:\n",
    "    pagar = (pagarA+pagarB)/0.10\n",
    "    print(\"Valor à pagar é de \", pagar)\n",
    "else:\n",
    "    pagar = pagarA + pagarB\n",
    "    print(\"Valor à pagar é de \", pagar)"
   ]
  },
  {
   "cell_type": "markdown",
   "metadata": {},
   "source": [
    "13 Faça um programa que peça uma nota, entre zero e dez. Mostre uma mensagem\n",
    "caso o valor seja inválido e continue pedindo até que o usuário informe um valor\n",
    "válido."
   ]
  },
  {
   "cell_type": "code",
   "execution_count": 43,
   "metadata": {},
   "outputs": [
    {
     "name": "stdout",
     "output_type": "stream",
     "text": [
      "Digite um valor 11\n",
      "Digite um valor 3\n",
      "Valor válido\n"
     ]
    }
   ],
   "source": [
    "while True:\n",
    "    a = int(input('Digite um valor '))\n",
    "    if(a >= 0 and a <= 10):\n",
    "        print(\"Valor válido\")\n",
    "        break"
   ]
  },
  {
   "cell_type": "markdown",
   "metadata": {},
   "source": [
    "14 Faça um programa que leia 5 números e informe o maior número."
   ]
  },
  {
   "cell_type": "code",
   "execution_count": 45,
   "metadata": {},
   "outputs": [
    {
     "name": "stdout",
     "output_type": "stream",
     "text": [
      "Digite um valor 2\n",
      "Digite um valor 1\n",
      "Digite um valor 4\n",
      "Digite um valor 2\n",
      "Digite um valor 6\n",
      "o maior número é  6\n"
     ]
    }
   ],
   "source": [
    "qnt = 1\n",
    "while qnt <= 5:\n",
    "    x = int(input('Digite um valor '))\n",
    "    if(qnt == 1):\n",
    "        valor = x\n",
    "    if(x > valor):\n",
    "        valor = x\n",
    "    qnt = qnt + 1\n",
    "print(\"o maior número é \", x)"
   ]
  },
  {
   "cell_type": "markdown",
   "metadata": {},
   "source": [
    "15 Faça um programa que leia 5 números e informe a soma e a média dos números."
   ]
  },
  {
   "cell_type": "code",
   "execution_count": 46,
   "metadata": {},
   "outputs": [
    {
     "name": "stdout",
     "output_type": "stream",
     "text": [
      "Digite um valor 1\n",
      "Digite um valor 2\n",
      "Digite um valor 3\n",
      "Digite um valor 4\n",
      "Digite um valor 5\n",
      "A soma dos números são  15\n",
      "A média dos números são  3.0\n"
     ]
    }
   ],
   "source": [
    "qnt = 1\n",
    "soma = 0\n",
    "while qnt <= 5:\n",
    "    x = int(input('Digite um valor '))\n",
    "    soma = soma + x\n",
    "    qnt = qnt + 1\n",
    "print(\"A soma dos números são \", soma)\n",
    "print(\"A média dos números são \", (soma/5))"
   ]
  },
  {
   "cell_type": "markdown",
   "metadata": {},
   "source": [
    "16 Faça um programa que imprima na tela apenas os números ímpares entre 1 e 50."
   ]
  },
  {
   "cell_type": "code",
   "execution_count": 49,
   "metadata": {},
   "outputs": [
    {
     "name": "stdout",
     "output_type": "stream",
     "text": [
      "Digite um valor 3\n",
      "É ímpar o número 3\n"
     ]
    }
   ],
   "source": [
    "x = int(input('Digite um valor '))\n",
    "if(x % 2 == 1):\n",
    "    if(x >= 1 and x <= 50):\n",
    "        print(\"É ímpar o número\", x)"
   ]
  },
  {
   "cell_type": "markdown",
   "metadata": {},
   "source": [
    "17 Desenvolva um gerador de tabuada, capaz de gerar a tabuada de qualquer\n",
    "número inteiro entre 1 a 10. O usuário deve informar de qual numero ele deseja ver\n",
    "a tabuada. A saída deve ser conforme o exemplo abaixo:"
   ]
  },
  {
   "cell_type": "code",
   "execution_count": 54,
   "metadata": {},
   "outputs": [
    {
     "name": "stdout",
     "output_type": "stream",
     "text": [
      "Número que deseja ver a tabuada 9\n",
      "Tabuada do  9\n",
      "9  x  0  =  0\n",
      "9  x  1  =  9\n",
      "9  x  2  =  18\n",
      "9  x  3  =  27\n",
      "9  x  4  =  36\n",
      "9  x  5  =  45\n",
      "9  x  6  =  54\n",
      "9  x  7  =  63\n",
      "9  x  8  =  72\n",
      "9  x  9  =  81\n",
      "9  x  10  =  90\n"
     ]
    }
   ],
   "source": [
    "x = int(input('Número que deseja ver a tabuada '))\n",
    "qnt = 0\n",
    "print(\"Tabuada do \",x)\n",
    "while qnt <= 10:\n",
    "    print(x, \" x \", qnt, \" = \", (x*qnt))\n",
    "    qnt+=1"
   ]
  },
  {
   "cell_type": "markdown",
   "metadata": {},
   "source": [
    "18 A série de Fibonacci é formada pela seqüência 1,1,2,3,5,8,13,21,34,55,... Faça um\n",
    "programa capaz de gerar a série até o n−ésimo termo."
   ]
  },
  {
   "cell_type": "code",
   "execution_count": 89,
   "metadata": {},
   "outputs": [
    {
     "name": "stdout",
     "output_type": "stream",
     "text": [
      "Qual termo deseja? 6\n",
      "O termo  3  o valor é  2\n",
      "O termo  4  o valor é  3\n",
      "O termo  5  o valor é  5\n",
      "O termo  6  o valor é  8\n"
     ]
    }
   ],
   "source": [
    "x = int(input('Qual termo deseja? '))\n",
    "cont = 3\n",
    "t1 = 1\n",
    "t2 = 1\n",
    "if x == 1:\n",
    "    print(\"O termo 1 o valor é \", t1)\n",
    "elif x == 2:\n",
    "    print(\"O termo 2 o valor é \", t2)\n",
    "while cont <= x:\n",
    "    t3 = t1+t2\n",
    "    t1 = t2\n",
    "    t2 = t3\n",
    "    print(\"O termo \", cont, \" o valor é \", t3)\n",
    "    cont+=1"
   ]
  },
  {
   "cell_type": "markdown",
   "metadata": {},
   "source": [
    "19 Faça um programa que calcule o fatorial de um número inteiro fornecido pelo\n",
    "usuário. Ex.: 5!=5.4.3.2.1=120"
   ]
  },
  {
   "cell_type": "code",
   "execution_count": 99,
   "metadata": {},
   "outputs": [
    {
     "name": "stdout",
     "output_type": "stream",
     "text": [
      "Digite o fatorial 5\n",
      "O fatorial de  5  é  120\n"
     ]
    }
   ],
   "source": [
    "x = int(input('Digite o fatorial '))\n",
    "c = x\n",
    "f = 1\n",
    "while c > 0:\n",
    "    f = f * c\n",
    "    c = c - 1\n",
    "print(\"O fatorial de \", x , \" é \", f)"
   ]
  },
  {
   "cell_type": "markdown",
   "metadata": {},
   "source": [
    "20 O Sr. Manoel Joaquim possui uma grande loja de artigos de R$ 1,99, com cerca\n",
    "de 10 caixas. Para agilizar o cálculo de quanto cada cliente deve pagar ele\n",
    "desenvolveu um tabela que contém o número de itens que o cliente comprou e ao\n",
    "lado o valor da conta. Desta forma a atendente do caixa precisa apenas contar\n",
    "quantos itens o cliente está levando e olhar na tabela de preços. Você foi contratado\n",
    "para desenvolver o programa que monta esta tabela de preços, que conterá os\n",
    "preços de 1 até 50 produtos, conforme o exemplo abaixo:"
   ]
  },
  {
   "cell_type": "code",
   "execution_count": 105,
   "metadata": {},
   "outputs": [
    {
     "name": "stdout",
     "output_type": "stream",
     "text": [
      "1  deverá pagar o valor de R$  1.99\n",
      "2  deverá pagar o valor de R$  3.98\n",
      "3  deverá pagar o valor de R$  5.97\n",
      "4  deverá pagar o valor de R$  7.96\n",
      "5  deverá pagar o valor de R$  9.95\n",
      "6  deverá pagar o valor de R$  11.94\n",
      "7  deverá pagar o valor de R$  13.93\n",
      "8  deverá pagar o valor de R$  15.92\n",
      "9  deverá pagar o valor de R$  17.91\n",
      "10  deverá pagar o valor de R$  19.9\n",
      "11  deverá pagar o valor de R$  21.89\n",
      "12  deverá pagar o valor de R$  23.88\n",
      "13  deverá pagar o valor de R$  25.87\n",
      "14  deverá pagar o valor de R$  27.86\n",
      "15  deverá pagar o valor de R$  29.85\n",
      "16  deverá pagar o valor de R$  31.84\n",
      "17  deverá pagar o valor de R$  33.83\n",
      "18  deverá pagar o valor de R$  35.82\n",
      "19  deverá pagar o valor de R$  37.81\n",
      "20  deverá pagar o valor de R$  39.8\n",
      "21  deverá pagar o valor de R$  41.79\n",
      "22  deverá pagar o valor de R$  43.78\n",
      "23  deverá pagar o valor de R$  45.77\n",
      "24  deverá pagar o valor de R$  47.76\n",
      "25  deverá pagar o valor de R$  49.75\n",
      "26  deverá pagar o valor de R$  51.74\n",
      "27  deverá pagar o valor de R$  53.73\n",
      "28  deverá pagar o valor de R$  55.72\n",
      "29  deverá pagar o valor de R$  57.71\n",
      "30  deverá pagar o valor de R$  59.7\n",
      "31  deverá pagar o valor de R$  61.69\n",
      "32  deverá pagar o valor de R$  63.68\n",
      "33  deverá pagar o valor de R$  65.67\n",
      "34  deverá pagar o valor de R$  67.66\n",
      "35  deverá pagar o valor de R$  69.65\n",
      "36  deverá pagar o valor de R$  71.64\n",
      "37  deverá pagar o valor de R$  73.63\n",
      "38  deverá pagar o valor de R$  75.62\n",
      "39  deverá pagar o valor de R$  77.61\n",
      "40  deverá pagar o valor de R$  79.6\n",
      "41  deverá pagar o valor de R$  81.59\n",
      "42  deverá pagar o valor de R$  83.58\n",
      "43  deverá pagar o valor de R$  85.57\n",
      "44  deverá pagar o valor de R$  87.56\n",
      "45  deverá pagar o valor de R$  89.55\n",
      "46  deverá pagar o valor de R$  91.54\n",
      "47  deverá pagar o valor de R$  93.53\n",
      "48  deverá pagar o valor de R$  95.52\n",
      "49  deverá pagar o valor de R$  97.51\n",
      "50  deverá pagar o valor de R$  99.5\n"
     ]
    }
   ],
   "source": [
    "c = 1\n",
    "while c <= 50:\n",
    "    valor = c * 1.99\n",
    "    print(c, \" deverá pagar o valor de R$ \", valor)\n",
    "    c = c + 1"
   ]
  },
  {
   "cell_type": "markdown",
   "metadata": {},
   "source": [
    "21 O Sr. Manoel Joaquim acaba de adquirir uma panificadora e pretende implantar\n",
    "a metodologia da tabelinha, que já é um sucesso na sua loja de 1,99. Você foi\n",
    "contratado para desenvolver o programa que monta a tabela de preços de pães, de\n",
    "1 até 50 pães, a partir do preço do pão informado pelo usuário, conforme o exemplo\n",
    "abaixo:"
   ]
  },
  {
   "cell_type": "code",
   "execution_count": 107,
   "metadata": {},
   "outputs": [
    {
     "name": "stdout",
     "output_type": "stream",
     "text": [
      "Qual o preço do pão? 0.18\n",
      "1  deverá pagar o valor de R$  0.18\n",
      "2  deverá pagar o valor de R$  0.36\n",
      "3  deverá pagar o valor de R$  0.54\n",
      "4  deverá pagar o valor de R$  0.72\n",
      "5  deverá pagar o valor de R$  0.8999999999999999\n",
      "6  deverá pagar o valor de R$  1.08\n",
      "7  deverá pagar o valor de R$  1.26\n",
      "8  deverá pagar o valor de R$  1.44\n",
      "9  deverá pagar o valor de R$  1.6199999999999999\n",
      "10  deverá pagar o valor de R$  1.7999999999999998\n",
      "11  deverá pagar o valor de R$  1.98\n",
      "12  deverá pagar o valor de R$  2.16\n",
      "13  deverá pagar o valor de R$  2.34\n",
      "14  deverá pagar o valor de R$  2.52\n",
      "15  deverá pagar o valor de R$  2.6999999999999997\n",
      "16  deverá pagar o valor de R$  2.88\n",
      "17  deverá pagar o valor de R$  3.06\n",
      "18  deverá pagar o valor de R$  3.2399999999999998\n",
      "19  deverá pagar o valor de R$  3.42\n",
      "20  deverá pagar o valor de R$  3.5999999999999996\n",
      "21  deverá pagar o valor de R$  3.78\n",
      "22  deverá pagar o valor de R$  3.96\n",
      "23  deverá pagar o valor de R$  4.14\n",
      "24  deverá pagar o valor de R$  4.32\n",
      "25  deverá pagar o valor de R$  4.5\n",
      "26  deverá pagar o valor de R$  4.68\n",
      "27  deverá pagar o valor de R$  4.859999999999999\n",
      "28  deverá pagar o valor de R$  5.04\n",
      "29  deverá pagar o valor de R$  5.22\n",
      "30  deverá pagar o valor de R$  5.3999999999999995\n",
      "31  deverá pagar o valor de R$  5.58\n",
      "32  deverá pagar o valor de R$  5.76\n",
      "33  deverá pagar o valor de R$  5.9399999999999995\n",
      "34  deverá pagar o valor de R$  6.12\n",
      "35  deverá pagar o valor de R$  6.3\n",
      "36  deverá pagar o valor de R$  6.4799999999999995\n",
      "37  deverá pagar o valor de R$  6.66\n",
      "38  deverá pagar o valor de R$  6.84\n",
      "39  deverá pagar o valor de R$  7.02\n",
      "40  deverá pagar o valor de R$  7.199999999999999\n",
      "41  deverá pagar o valor de R$  7.38\n",
      "42  deverá pagar o valor de R$  7.56\n",
      "43  deverá pagar o valor de R$  7.739999999999999\n",
      "44  deverá pagar o valor de R$  7.92\n",
      "45  deverá pagar o valor de R$  8.1\n",
      "46  deverá pagar o valor de R$  8.28\n",
      "47  deverá pagar o valor de R$  8.459999999999999\n",
      "48  deverá pagar o valor de R$  8.64\n",
      "49  deverá pagar o valor de R$  8.82\n",
      "50  deverá pagar o valor de R$  9.0\n"
     ]
    }
   ],
   "source": [
    "x = float(input('Qual o preço do pão? '))\n",
    "c = 1\n",
    "while c <= 50:\n",
    "    valor = c * x\n",
    "    print(c, \" deverá pagar o valor de R$ \", valor)\n",
    "    c = c + 1"
   ]
  },
  {
   "cell_type": "markdown",
   "metadata": {},
   "source": [
    "22 O Sr. Manoel Joaquim expandiu seus negócios para além dos negócios de 1,99 e\n",
    "agora possui uma loja de conveniências. Faça um programa que implemente uma\n",
    "caixa registradora rudimentar. O programa deverá receber um número\n",
    "desconhecido de valores referentes aos preços das mercadorias. Um valor zero deve\n",
    "ser informado pelo operador para indicar o final da compra. O programa deve então\n",
    "mostrar o total da compra e perguntar o valor em dinheiro que o cliente forneceu,\n",
    "para então calcular e mostrar o valor do troco. Após esta operação, o programa\n",
    "deverá voltar ao ponto inicial, para registrar a próxima compra. A saída deve ser\n",
    "conforme o exemplo abaixo:"
   ]
  },
  {
   "cell_type": "code",
   "execution_count": 119,
   "metadata": {},
   "outputs": [
    {
     "name": "stdout",
     "output_type": "stream",
     "text": [
      "Produto, R$ 20\n",
      "Produto, R$ 1\n",
      "Produto, R$ 0\n",
      "Qual o valor em dinheiro? 23\n",
      "Dinheiro :  23\n",
      "Total :  21\n",
      "Troco :  2\n"
     ]
    }
   ],
   "source": [
    "total = 0\n",
    "cont = 0\n",
    "while True:\n",
    "    cont += 1\n",
    "    x = int(input('Produto, R$ '))\n",
    "    if x != 0:\n",
    "        total = total + x\n",
    "    else:\n",
    "        dinheiro = int(input('Qual o valor em dinheiro? '))\n",
    "        troco = dinheiro - total\n",
    "        print(\"Dinheiro : \", dinheiro)\n",
    "        print(\"Total : \", total)\n",
    "        print(\"Troco : \", troco)\n",
    "        break"
   ]
  },
  {
   "cell_type": "markdown",
   "metadata": {},
   "source": [
    "23 Foi feita uma estatística em cinco cidades brasileiras para coletar dados sobre\n",
    "acidentes de trânsito. Foram obtidos os seguintes dados:\n",
    "- Código da cidade;\n",
    "- Número de veículos de passeio (em 1999);\n",
    "- Número de acidentes de trânsito com vítimas (em 1999). Deseja-se saber:\n",
    "- Qual o maior e menor índice de acidentes de transito e a que cidade pertence;\n",
    "- Qual a média de veículos nas cinco cidades juntas;\n",
    "- Qual a média de acidentes de trânsito nas cidades com menos de 2.000 veículos de\n",
    "passeio."
   ]
  },
  {
   "cell_type": "code",
   "execution_count": 127,
   "metadata": {},
   "outputs": [
    {
     "name": "stdout",
     "output_type": "stream",
     "text": [
      "Código da cidade 1\n",
      "Número de veículos de passeio 2000\n",
      "Número de acidentes de trânsito 2000\n",
      "Código da cidade 2\n",
      "Número de veículos de passeio 2000\n",
      "Número de acidentes de trânsito 2000\n",
      "Código da cidade 3\n",
      "Número de veículos de passeio 3\n",
      "Número de acidentes de trânsito 3\n",
      "Código da cidade 4\n",
      "Número de veículos de passeio 4\n",
      "Número de acidentes de trânsito 4\n",
      "Código da cidade 5\n",
      "Número de veículos de passeio 5\n",
      "Número de acidentes de trânsito 5\n",
      "A cidade do código ,  1  possui o maior índice de acidentes, com  2000\n",
      "A cidade do código ,  3  possui o menor índice de acidentes, com  3\n",
      "A média de veículos nas cinco cidade são de:  802.4\n",
      "A média de acidentes altos são de:  4.0\n"
     ]
    }
   ],
   "source": [
    "contador = 1\n",
    "maior = 0\n",
    "cidadeMaior = \"\"\n",
    "menor = 0\n",
    "cidadeMenor = \"\"\n",
    "qntMediaTransito = 0\n",
    "mediaTransito = 0\n",
    "totalVeiculos = 0\n",
    "mediaAcidentesAltos = 0\n",
    "qntAcidentesAltos = 0\n",
    "while contador <= 5:\n",
    "    cidade = input('Código da cidade ')\n",
    "    veiculos = int(input('Número de veículos de passeio '))\n",
    "    acidentes = int(input('Número de acidentes de trânsito '))\n",
    "    if acidentes > maior:\n",
    "        maior = acidentes\n",
    "        cidadeMaior = cidade\n",
    "    if contador == 1:\n",
    "        menor = acidentes\n",
    "        cidadeMenor = menor\n",
    "    if acidentes < menor:\n",
    "        menor = acidentes\n",
    "        cidadeMenor = cidade\n",
    "    if acidentes < 2000:\n",
    "        mediaAcidentesAltos += acidentes\n",
    "        qntAcidentesAltos+=1\n",
    "    totalVeiculos += veiculos\n",
    "    contador+=1\n",
    "print(\"A cidade do código , \", cidadeMaior, \" possui o maior índice de acidentes, com \", maior)\n",
    "print(\"A cidade do código , \", cidadeMenor, \" possui o menor índice de acidentes, com \", menor)\n",
    "media = totalVeiculos/5\n",
    "print(\"A média de veículos nas cinco cidade são de: \", media)\n",
    "mediaAltos = mediaAcidentesAltos / qntAcidentesAltos\n",
    "print(\"A média de acidentes altos são de: \", mediaAltos)"
   ]
  },
  {
   "cell_type": "markdown",
   "metadata": {},
   "source": [
    "24 Faça um programa que receba o valor de uma dívida e mostre uma tabela com\n",
    "os seguintes dados: valor da dívida, valor dos juros, quantidade de parcelas e valor\n",
    "da parcela.\n",
    "Os juros e a quantidade de parcelas seguem a tabela abaixo:\n",
    "Quantidade de Parcelas % de Juros sobre o valor inicial da dívida"
   ]
  },
  {
   "cell_type": "markdown",
   "metadata": {},
   "source": [
    "25 Faça um programa que mostre os n termos da Série a seguir:\n",
    "S = 1/1 + 2/3 + 3/5 + 4/7 + 5/9 + ... + n/m.\n",
    "Imprima no final a soma da série."
   ]
  },
  {
   "cell_type": "code",
   "execution_count": 165,
   "metadata": {},
   "outputs": [
    {
     "name": "stdout",
     "output_type": "stream",
     "text": [
      "S =  1/1 + 2/3 + 3/5 + 4/7 + 5/9 + 6/11 + 7/13 + 8/15 + 9/17 + 10/19 + 11/21 + 12/23 + 13/25 + 14/27 + 15/29 + 16/31 + 17/33 + 18/35 + 19/37 + 20/39 + 21/41 + 22/43 + 23/45 + 24/47 + 25/49 + 26/51 + 27/53 + 28/55 + 29/57 + 30/59 + 31/61 + 32/63 + 33/65 + 34/67 + 35/69 + 36/71 + 37/73 + 38/75 + 39/77 + 40/79 + 41/81 + 42/83 + 43/85 + 44/87 + 45/89 + 46/91 + 47/93 + 48/95 + 49/97 + 50/99  =  26.46888742423745\n"
     ]
    }
   ],
   "source": [
    "limite = 1\n",
    "contador = 1\n",
    "visualizar = \"\"\n",
    "divisao = 0\n",
    "while contador <= 100:\n",
    "    if contador % 2 == 1:\n",
    "        visualizar += str(limite)+\"/\"+ str(contador)\n",
    "        divisao += limite/contador\n",
    "        limite+=1\n",
    "    if(contador < 99 and contador%2 == 1):\n",
    "        visualizar+= \" + \"\n",
    "    contador +=1\n",
    "print(\"S = \", visualizar, \" = \", divisao)"
   ]
  },
  {
   "cell_type": "code",
   "execution_count": null,
   "metadata": {},
   "outputs": [],
   "source": []
  },
  {
   "cell_type": "code",
   "execution_count": null,
   "metadata": {},
   "outputs": [],
   "source": []
  }
 ],
 "metadata": {
  "kernelspec": {
   "display_name": "Python 3",
   "language": "python",
   "name": "python3"
  },
  "language_info": {
   "codemirror_mode": {
    "name": "ipython",
    "version": 3
   },
   "file_extension": ".py",
   "mimetype": "text/x-python",
   "name": "python",
   "nbconvert_exporter": "python",
   "pygments_lexer": "ipython3",
   "version": "3.6.4"
  }
 },
 "nbformat": 4,
 "nbformat_minor": 2
}
